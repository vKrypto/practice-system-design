{
 "cells": [
  {
   "attachments": {},
   "cell_type": "markdown",
   "metadata": {},
   "source": [
    "# key feature for DB:\n",
    "    0) CAP theorem\n",
    "    0) Consistency, Avalaibility, Scalability.\n",
    "    1) atomicity, consistency, isolation, and durability\n",
    "    2) Horizantal Partitionaing database sharding.\n",
    "    2) Vertical Partitioning.\n",
    "\n",
    "# choose database wisely \n",
    "<a href=\"https://blog.bytebytego.com/p/key-steps-in-the-database-selection\" target=\"_blank\">\n",
    "blog post : <br/>\n",
    "<img src=\"https://substack-post-media.s3.amazonaws.com/public/images/275f42cb-ab8f-49a5-b0e0-37ac32fe68fb_2216x2288.jpeg\"  height=700/>\n",
    "</a>"
   ]
  },
  {
   "attachments": {},
   "cell_type": "markdown",
   "metadata": {},
   "source": [
    "# Sharding:\n",
    "\n",
    "\n",
    "    pros:\n",
    "        High Availability (Availability can be increased with Master-slave for each shard-partitiions.)\n",
    "        Faster queries response\n",
    "        More write bandwidth\n",
    "        Scaling out\n",
    "\n",
    "    cons:\n",
    "        Scaling out\n",
    "        re-sharding can be hard.\n",
    "        no native support by every database.(roll your own)\n",
    "        JOINS cross shard are hard\n",
    "        fixed number of sharding.(hierarichal sharding)\n",
    "        \n",
    "    Type:\n",
    "        Key based Sharding\n",
    "        range based Sharding\n",
    "        Directory Based Sharding"
   ]
  },
  {
   "attachments": {},
   "cell_type": "markdown",
   "metadata": {},
   "source": [
    "# Database:\n",
    "    dynamo, Casandra (best for recommedndation,) alternate is shardining/ horizontal partitioning for relation db\n",
    " "
   ]
  },
  {
   "attachments": {},
   "cell_type": "markdown",
   "metadata": {},
   "source": [
    "## Relationol DB:\n",
    "    1) update are also\n",
    "    3) built for join ( relation)\n",
    "\n",
    "\n",
    "## NOSQL: DB:\n",
    "    1) fast Insertion and Retrivel\n",
    "    0) filter search is slow.\n",
    "    2) join expensive.\n",
    "    3) Flex Schema\n",
    "    4) built for scale\n",
    "    5) for metrics/aggregated data etc.\n",
    "    6) ACID is not guranteed."
   ]
  },
  {
   "attachments": {},
   "cell_type": "markdown",
   "metadata": {},
   "source": [
    "# Casandra:\n",
    "\n",
    "    1) Load Balancing\n",
    "    2) Redundancy/Data REplication\n",
    "    3) SST - Sorted String Tasble ( immutable)\n",
    "\n",
    "    pros:\n",
    "\n",
    "    1. Continuous data availability is a compelling feature of Cassandra.\n",
    "    2. Cassandra has an overall cost-effective and low maintenance database platform.\n",
    "    3. It has high performance and low tolerance.\n",
    "    4. Cassandra is excellent for applications with serious issues with performance in their production systems.\n",
    "    5. Flexibility ( tweaking options as per requirements)\n",
    "    6. High availability and Fault tolerance\n",
    "    7. Transactional data support\n",
    "    8. open source\n",
    "\n",
    "    cons:\n",
    "    1. Moving data from Cassandra to any relational database platform can be improved.\n",
    "    2. Database event logging can be handled more efficiently.\n",
    "    3. Cassandra does not support aggregates.\n",
    "    4. It doesn't fit for transactional data.\n",
    "\n",
    "    best use cases:\n",
    "    1. You have to work with a massive amount of data.\n",
    "    2. There are fewer secondary index needs.\n",
    "    3. There is no need for connections or aggregates.\n",
    "    4. There is a need for a distributed application."
   ]
  },
  {
   "cell_type": "markdown",
   "metadata": {},
   "source": [
    "# Elastic Search: "
   ]
  },
  {
   "cell_type": "markdown",
   "metadata": {},
   "source": [
    "# master slave structure\n",
    "    1) one master for write, multiple slaves for read structure\n",
    "\n",
    "\n",
    "    Replication  Lag,\n",
    "    Map a users to same replica every time. ( based on User-hash)\n",
    "    Read Your Own Writes can help to avoid some usecases\n",
    "    Monotonic Reads\n",
    "    // replicas\n"
   ]
  },
  {
   "cell_type": "markdown",
   "metadata": {},
   "source": [
    "\n",
    "### 1) Single Leader replicas\n",
    "    pros: \n",
    "        auto backup replication\n",
    "        scalable for read queries\n",
    "    cons: \n",
    "        single point of failure\n",
    "        bottleneck at the master node\n",
    "        sync overhead (consistency)\n",
    "        Scalability Limitations for write (vertical scaling only)\n",
    "\n",
    "    asynchronous syncing to slaves:\n",
    "        pros:\n",
    "            consistency\n",
    "            easy to maintain\n",
    "        cons:\n",
    "            single point of failure\n",
    "            slow write query (high latency)\n",
    "            leaders crashes and no way to recoverable then data lost(not redundant)\n",
    "    \n",
    "    synchronous syncing to salves:\n",
    "        pros:\n",
    "            faster write queries( low latency)\n",
    "            stale read\n",
    "            replication lag (not consistent)\n",
    "        cons:\n",
    "            single point of failure\n",
    "            slow write query (high latency)\n",
    "    \n",
    "    note: auto Failover handling, if leader is down, assign leader to a follower "
   ]
  },
  {
   "cell_type": "markdown",
   "metadata": {},
   "source": [
    "### 2) multiple Leader replicas\n",
    "    need topology for communication between leaders (circular, star, all-to-all etc)\n",
    "    Incorrect Order Prefix Reads can accur.(change 1 propagate after change 2 for any leader)\n",
    "    pros:\n",
    "\n",
    "    cons:\n",
    "\n",
    "\n",
    "### 3) leaderless replication\n",
    "    example : casandra, dynamodb\n",
    "    no leaders\n",
    "    all nodes accepts reads and writes\n",
    "    Better availability\n",
    "    decentralized design\n",
    "    typically use in write intensive apps, where availability more important than consistency.\n",
    "\n",
    ">>>> we use concept of quorum consensus to get non-stale data.\n",
    ">>>> write at least x nodes from n nodes. where x + r > N\n",
    ">>>> read from all nodes and resolve conflict and then repair stale data:\n",
    ">>>>>>>>>Read Repair  or Background syncing. process\n",
    ">>>>> Exmaple: dynamodb\n"
   ]
  },
  {
   "cell_type": "markdown",
   "metadata": {},
   "source": [
    "## quorum consensus\n",
    "\n",
    "    n replicas, and w successful write operations\n",
    "    then number of read operations must be  R > N - W\n",
    "\n",
    "    this means that your system is better tolerant and better availability "
   ]
  },
  {
   "cell_type": "markdown",
   "metadata": {},
   "source": [
    "\n",
    "# Popular Data structure\n",
    "\n",
    "    1) SkipList\n",
    "    2) B- tree\n",
    "    3) Hash Index\n",
    "    4) ss Table\n",
    "    5) inverted Index\n",
    "    6) suffix tree\n",
    "    7) LSM tree\n",
    "    8) R tree\n",
    "\n",
    "\n",
    "\n",
    "# scaling database\n",
    "\n",
    "1) sharding\n",
    "2) splintering\n",
    "3) horizontal partitioning.\n",
    "\n",
    "\n",
    "\n",
    "\n",
    "# LSM tree\n",
    "    Compaction ( merge sort ) required (can be heavy as database grows too much) \n",
    "    Compressed better space used.\n",
    "    exmplae: LevelDB\n",
    "    not goood for lot of writes. (rate of writes < rate of Compaction)\n",
    "\n",
    "\n",
    "# B tree database ( page oriented database)\n",
    "    segmentations is there so more space used.\n",
    "    uses Write ahead log.(WAL) to recover from data loss/ failure\n",
    "    exmplae: My Sql, Innodb\n",
    "    goood for lot of writes.\n",
    "\n",
    "\n",
    "\n",
    "# Distributed Database Conses\n",
    ">>> 2 PC\n",
    ">>> 3 pc\n",
    ">>> MVCC\n",
    ">>> Saga \n",
    "\n",
    "\n",
    "\n",
    "# Database ISolation  and violations\n",
    "    violations ( to take care of)>> \n",
    "        Dirty Read\n",
    "        Non- Repeatable Read\n",
    "        Phantom Read\n"
   ]
  },
  {
   "cell_type": "markdown",
   "metadata": {},
   "source": [
    "# replication log\n",
    "\n",
    "1) Trigger based\n",
    "2) statement based\n",
    "3) Logical row log (query in simple optimize modes, like insert a row, update this column)\n",
    "3) Write ahead log(lsm tree)"
   ]
  },
  {
   "cell_type": "markdown",
   "metadata": {},
   "source": [
    "# location based database\n",
    "# graph network based database\n",
    "# time based database\n",
    "# steam based database\n",
    "# realtime database\n",
    "# OLTP Databases"
   ]
  },
  {
   "cell_type": "markdown",
   "metadata": {},
   "source": [
    "# Neo4j( graph DB)\n",
    "\n",
    "### limitations:\n",
    "\n",
    "\n",
    "### pros:\n",
    "\n",
    "    (1) ACID transactions in Neo4j ensure that data is fully consistent and reliable for global enterprise applications.\n",
    "    (2) It supports the concept of multiple users and a new role-based access control framework.\n",
    "    (3) Neo4j provides a new plug-in architecture for building and deploying users’ own authentication and authorization controls.\n",
    "\n",
    "### cons:\n",
    "    (1) We can’t share Neo4j. That means that we have whole dataset in ONE server and only vertical scalability is possible.\n",
    "    (2) Neo4j has some upper bound limit for the graph size and can support tens of billions of nodes, properties, and relationships in a single graph.\n",
    "    (3) No security is provided at the data level and there is no data encryption.\n",
    "    (4) Security auditing is not available in Neo4j."
   ]
  },
  {
   "cell_type": "markdown",
   "metadata": {},
   "source": [
    "# aws Neptune ( graph DB):\n",
    "\n",
    "### limitations:\n",
    "    100 k queries per second.\n",
    "    128 TiB data per cluster with upto 15 replicas.\n",
    "    unlimited nodes and edges\n",
    "\n",
    "### pros:\n",
    "    ACID\n",
    "    auto Backups and snapshots\n",
    "    point in time recovery.\n",
    "    secured, Encruption\n",
    "\n",
    "### cons:\n",
    "    complexity level for fine tuning queries."
   ]
  },
  {
   "cell_type": "markdown",
   "metadata": {},
   "source": []
  },
  {
   "cell_type": "markdown",
   "metadata": {},
   "source": [
    "# amazon timestream( time series DB)\n",
    "# prometheus( time series DB)"
   ]
  }
 ],
 "metadata": {
  "kernelspec": {
   "display_name": "Python 3",
   "language": "python",
   "name": "python3"
  },
  "language_info": {
   "codemirror_mode": {
    "name": "ipython",
    "version": 3
   },
   "file_extension": ".py",
   "mimetype": "text/x-python",
   "name": "python",
   "nbconvert_exporter": "python",
   "pygments_lexer": "ipython3",
   "version": "3.10.12"
  },
  "vscode": {
   "interpreter": {
    "hash": "916dbcbb3f70747c44a77c7bcd40155683ae19c65e1c03b4aa3499c5328201f1"
   }
  }
 },
 "nbformat": 4,
 "nbformat_minor": 4
}
