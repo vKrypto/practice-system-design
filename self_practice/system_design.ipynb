{
 "cells": [
  {
   "attachments": {},
   "cell_type": "markdown",
   "metadata": {},
   "source": [
    "# key fearture for system design:\n",
    "    1) Analytics\n",
    "    2) Auditing\n",
    "    3) Reporting\n",
    "    5) Micro service architecture\n",
    "    6) distributed System\n",
    "    7) Load balancer\n",
    "    8) Decoupling\n",
    "    9) Loading\n",
    "    10) Exntensible ( Generlaize code for Service)\n",
    "    10) Verical Scaling, Horizontal Scaling\n",
    "    11) Pre-processing ( Cron job)\n",
    "    12) backups.\n",
    "    13) fault tolerance\n",
    "    14) Heart Beat Mechanism\n",
    "    15) message queue/Task queue. (RabbitMQ/Amazon SQS/ kafka)\n",
    "\n",
    "\n",
    "    0) Consistency, Avalaibility, Scalability.\n",
    "    1) atomicity, consistency, isolation, and durability\n",
    "    1) Monolith vs Micro-Services ( Stackoverflow: monolith)\n",
    "    2) Horizantal Partitionaing database sharding.\n",
    "    2) Vertical Partitioning."
   ]
  },
  {
   "cell_type": "markdown",
   "metadata": {},
   "source": [
    "# follow this pattern for system Design\n",
    "    => Functional Reqs  \n",
    "    => non-Functional Reqs \n",
    "    => Capacity Plannings\n",
    "    => API Structure \n",
    "    => Datbase Schema Design\n",
    "    => (optional) Transitional Reqs (migrationfixture)\n",
    "    => Design Architecture(system design)\n",
    "    => HLD\n",
    "    => LLD\n",
    "altexsoft.com/blog/business/functional-and-non-functional-requirements-specification-and-types/\n",
    "\n",
    "### non-Functional Reqs\n",
    "\n",
    "    => Performance(latency)\n",
    "    => Scalability\n",
    "    => Portability\n",
    "    => Usability\n",
    "    => Compatibility\n",
    "    => Integrity\n",
    "    => Reliability\n",
    "    => Localization\n",
    "    => Fault Tolerance & availability(99.999%) \n",
    "    => consistency\n",
    "    => durability\n",
    "    => Security & Encryption\n",
    "\n",
    "\n",
    "\n",
    "### Capacity Plannings:\n"
   ]
  },
  {
   "attachments": {},
   "cell_type": "markdown",
   "metadata": {},
   "source": [
    "# Database:\n",
    "    dynamo, Casandra (best for recommedndation,) alternate is shardining/ horizontal partitioning for relation db\n",
    " "
   ]
  },
  {
   "cell_type": "markdown",
   "metadata": {},
   "source": [
    "zOOKEPER"
   ]
  },
  {
   "cell_type": "markdown",
   "metadata": {},
   "source": [
    "Elastic Search:\n",
    "1) "
   ]
  },
  {
   "cell_type": "markdown",
   "metadata": {},
   "source": [
    "Solution of 3\n",
    "\n",
    "\n",
    "\n",
    "\n",
    "\n",
    "\n",
    "Heavy load:\n",
    "1) Pre Scale\n",
    "2) Auto Scale\n",
    "3) RAte limiting.\n",
    "4) Batch Processing\n",
    "5) Caching. \n",
    "6) Graduyally deploymenty\n"
   ]
  },
  {
   "cell_type": "markdown",
   "metadata": {},
   "source": [
    "Location BAsed Database:\n",
    "\n",
    "1) use quad tree."
   ]
  },
  {
   "cell_type": "markdown",
   "metadata": {},
   "source": [
    "for Video System:\n",
    "\n",
    "Resolution: 360, 720, 1080, 2K . 4K\n",
    "codecs: HLS, daSH, aBR\n",
    "\n",
    "check difrent formats amd ther size \n",
    "fps deatils etc/"
   ]
  },
  {
   "cell_type": "markdown",
   "metadata": {},
   "source": [
    "Protocols:\n",
    "1) http for client\n",
    "2) smtp for live call.\n",
    "    ARP: (being used tol know mac from ip)\n",
    "    SMPT: SIMPLE Mail Tansfer protocol\n",
    "3) pop3\n",
    "4) imap"
   ]
  }
 ],
 "metadata": {
  "kernelspec": {
   "display_name": "Python 3",
   "language": "python",
   "name": "python3"
  },
  "language_info": {
   "codemirror_mode": {
    "name": "ipython",
    "version": 3
   },
   "file_extension": ".py",
   "mimetype": "text/x-python",
   "name": "python",
   "nbconvert_exporter": "python",
   "pygments_lexer": "ipython3",
   "version": "3.10.12"
  },
  "vscode": {
   "interpreter": {
    "hash": "916dbcbb3f70747c44a77c7bcd40155683ae19c65e1c03b4aa3499c5328201f1"
   }
  }
 },
 "nbformat": 4,
 "nbformat_minor": 4
}
