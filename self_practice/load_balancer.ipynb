{
 "cells": [
  {
   "cell_type": "markdown",
   "metadata": {},
   "source": [
    "# Load balancer type:\n",
    "\n",
    "    1) Application Load Balancer(L7).\n",
    "<img src=\"https://d1.awsstatic.com/Digital%20Marketing/House/1up/products/elb/Product-Page-Diagram_Elastic-Load-Balancing_ALB_HIW%402x.cb3ce6cfd5dd549c99645ed51eef9e8be8a27aa3.png\"  height=200/>  <br/>\n",
    "    \n",
    "    2) Gateway Load Balancer (L3). \n",
    "<img src=\"https://d1.awsstatic.com/Digital%20Marketing/House/1up/products/elb/Product-Page-Diagram_Elastic-Load-Balancing_GWLB_HIW%402x.58547db68b537b4aa4b0cdf7e593a6415d588a09.png\" height=200/> <br/>\n",
    "\n",
    "    3) Network Load Balancer (L4)\n",
    "<img src=\"https://d1.awsstatic.com/Digital%20Marketing/House/1up/products/elb/Product-Page-Diagram_Elastic-Load-Balancing_NLB_HIW%402x.2f8ded8b565042980c4ad5f8ec57d6b2fafe54ba.png\" height=200 /> <br/>\n",
    "\n",
    " Elastic load balancer offers all above type of balancing."
   ]
  },
  {
   "attachments": {},
   "cell_type": "markdown",
   "metadata": {},
   "source": [
    "# Load balancer algo:\n",
    "\n",
    "    1) round robin\n",
    "    2) Weighted Round Robin\n",
    "    3) Least Response Time Method\n",
    "    4) Least Connection Method\n",
    "    5) Source IP Hash \n",
    "    6) Global Server load balancing.(CDN)\n",
    "    6) consitent Hashing"
   ]
  },
  {
   "cell_type": "markdown",
   "metadata": {},
   "source": [
    "# Protocols:\n",
    "    1) http for client\n",
    "    2) smtp for live call.\n",
    "        ARP: (being used to know mac from ip)\n",
    "        SMTP: SIMPLE Mail Tansfer protocol\n",
    "    3) pop3\n",
    "    4) ICMP / IMAP\n",
    "    1) XMPP\n",
    "    2) Web socket\n",
    "    4) RMTP\n",
    "    5) GRPC \n",
    "    6) THRIFT\n",
    "    7) webRTC"
   ]
  },
  {
   "cell_type": "markdown",
   "metadata": {},
   "source": [
    "# p2p protocols\n",
    "\n",
    "1) IRC"
   ]
  },
  {
   "cell_type": "markdown",
   "metadata": {},
   "source": [
    "# Layer wise protocols:\n",
    "\n",
    "    Layer 7:(Application) => SMTP, HTTP, FTP, POP3, SNMP\n",
    "    Layer 6:(Presentation) => MPEG, ASCH, SSL, TLS\n",
    "    Layer 5:(Session) => NetBIOS, SAP\n",
    "    Layer 4:(Transport) => TCP, UDP\n",
    "    Layer 3:(Network) => IPV5, IPV6, ICMP, IPSEC, ARP, MPLS.\n",
    "    Layer 2:(Data) => Link\tRAPA, PPP, Frame Relay, ATM, Fiber Cable, etc.\n",
    "    Layer 1:(Physical) => RS232, 100BaseTX, ISDN, 11."
   ]
  }
 ],
 "metadata": {
  "kernelspec": {
   "display_name": "Python 3",
   "language": "python",
   "name": "python3"
  },
  "language_info": {
   "codemirror_mode": {
    "name": "ipython",
    "version": 3
   },
   "file_extension": ".py",
   "mimetype": "text/x-python",
   "name": "python",
   "nbconvert_exporter": "python",
   "pygments_lexer": "ipython3",
   "version": "3.10.12"
  },
  "vscode": {
   "interpreter": {
    "hash": "916dbcbb3f70747c44a77c7bcd40155683ae19c65e1c03b4aa3499c5328201f1"
   }
  }
 },
 "nbformat": 4,
 "nbformat_minor": 4
}
